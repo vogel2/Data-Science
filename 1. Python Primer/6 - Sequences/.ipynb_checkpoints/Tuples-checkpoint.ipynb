{
 "cells": [
  {
   "cell_type": "code",
   "execution_count": 3,
   "id": "involved-damages",
   "metadata": {},
   "outputs": [
    {
     "data": {
      "text/plain": [
       "(11, 22, 30)"
      ]
     },
     "execution_count": 3,
     "metadata": {},
     "output_type": "execute_result"
    }
   ],
   "source": [
    "x = (11, 22, 30)\n",
    "x"
   ]
  },
  {
   "cell_type": "code",
   "execution_count": 5,
   "id": "conservative-official",
   "metadata": {},
   "outputs": [
    {
     "data": {
      "text/plain": [
       "(2, 64, 300)"
      ]
     },
     "execution_count": 5,
     "metadata": {},
     "output_type": "execute_result"
    }
   ],
   "source": [
    "y = 2, 64, 300 # packed into tuple by default\n",
    "y"
   ]
  },
  {
   "cell_type": "code",
   "execution_count": 6,
   "id": "distinct-weather",
   "metadata": {},
   "outputs": [
    {
     "data": {
      "text/plain": [
       "420"
      ]
     },
     "execution_count": 6,
     "metadata": {},
     "output_type": "execute_result"
    }
   ],
   "source": [
    "a, b, c = 69, 420, 1337\n",
    "b"
   ]
  },
  {
   "cell_type": "code",
   "execution_count": 7,
   "id": "revised-swimming",
   "metadata": {},
   "outputs": [
    {
     "data": {
      "text/plain": [
       "11"
      ]
     },
     "execution_count": 7,
     "metadata": {},
     "output_type": "execute_result"
    }
   ],
   "source": [
    "x[0]"
   ]
  },
  {
   "cell_type": "code",
   "execution_count": 8,
   "id": "simplified-gateway",
   "metadata": {},
   "outputs": [
    {
     "data": {
      "text/plain": [
       "[(11, 22, 30), (2, 64, 300)]"
      ]
     },
     "execution_count": 8,
     "metadata": {},
     "output_type": "execute_result"
    }
   ],
   "source": [
    "ListofTuples = [x, y]\n",
    "ListofTuples"
   ]
  },
  {
   "cell_type": "code",
   "execution_count": 11,
   "id": "devoted-watts",
   "metadata": {},
   "outputs": [
    {
     "name": "stdout",
     "output_type": "stream",
     "text": [
      "19\n",
      "2001\n"
     ]
    }
   ],
   "source": [
    "(age, dob) = \"19, 2001\".split(\", \")\n",
    "print(age)\n",
    "print(dob)"
   ]
  },
  {
   "cell_type": "code",
   "execution_count": 17,
   "id": "convinced-communications",
   "metadata": {},
   "outputs": [
    {
     "name": "stdout",
     "output_type": "stream",
     "text": [
      "('Area: ', 9, 'Perimeter: ', 12)\n"
     ]
    }
   ],
   "source": [
    "def squarefunction(side):\n",
    "    A = side ** 2\n",
    "    P = side * 4\n",
    "    return (\"Area: \", A, \"Perimeter: \", P)\n",
    "\n",
    "print(squarefunction(3))"
   ]
  },
  {
   "cell_type": "code",
   "execution_count": null,
   "id": "tough-passion",
   "metadata": {},
   "outputs": [],
   "source": []
  }
 ],
 "metadata": {
  "kernelspec": {
   "display_name": "Python 3",
   "language": "python",
   "name": "python3"
  },
  "language_info": {
   "codemirror_mode": {
    "name": "ipython",
    "version": 3
   },
   "file_extension": ".py",
   "mimetype": "text/x-python",
   "name": "python",
   "nbconvert_exporter": "python",
   "pygments_lexer": "ipython3",
   "version": "3.8.5"
  }
 },
 "nbformat": 4,
 "nbformat_minor": 5
}
