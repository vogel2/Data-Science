{
 "cells": [
  {
   "cell_type": "code",
   "execution_count": 2,
   "id": "athletic-houston",
   "metadata": {},
   "outputs": [
    {
     "data": {
      "text/plain": [
       "{'i1': 'Username', 'i2': 'Password'}"
      ]
     },
     "execution_count": 2,
     "metadata": {},
     "output_type": "execute_result"
    }
   ],
   "source": [
    "mydict = {\n",
    "    'i1' : \"Username\",\n",
    "    'i2' : \"Password\"\n",
    "}\n",
    "mydict"
   ]
  },
  {
   "cell_type": "code",
   "execution_count": 3,
   "id": "silver-master",
   "metadata": {},
   "outputs": [
    {
     "data": {
      "text/plain": [
       "'Username'"
      ]
     },
     "execution_count": 3,
     "metadata": {},
     "output_type": "execute_result"
    }
   ],
   "source": [
    "mydict['i1']"
   ]
  },
  {
   "cell_type": "code",
   "execution_count": 5,
   "id": "vertical-printing",
   "metadata": {},
   "outputs": [
    {
     "data": {
      "text/plain": [
       "{'i1': 'Username', 'i2': 'Password', 'i3': '2FA'}"
      ]
     },
     "execution_count": 5,
     "metadata": {},
     "output_type": "execute_result"
    }
   ],
   "source": [
    "mydict['i3'] = \"2FA\" # ADDING A NEW KEY-PAIR\n",
    "mydict"
   ]
  },
  {
   "cell_type": "code",
   "execution_count": 6,
   "id": "integral-arrest",
   "metadata": {},
   "outputs": [
    {
     "data": {
      "text/plain": [
       "{'i1': 'Email', 'i2': 'Password', 'i3': '2FA'}"
      ]
     },
     "execution_count": 6,
     "metadata": {},
     "output_type": "execute_result"
    }
   ],
   "source": [
    "mydict['i1'] = \"Email\" # REPLACING EXISTING KEY'S PAIR\n",
    "mydict"
   ]
  },
  {
   "cell_type": "code",
   "execution_count": 16,
   "id": "solved-humanity",
   "metadata": {},
   "outputs": [
    {
     "data": {
      "text/plain": [
       "{'TeamA': 'Mohsen', 'TeamB': ['Ahmed', 'Mohamed', 'Mahmoud']}"
      ]
     },
     "execution_count": 16,
     "metadata": {},
     "output_type": "execute_result"
    }
   ],
   "source": [
    "teams = {\n",
    "    \"TeamA\": 'Mohsen',\n",
    "    'TeamB' : ['Ahmed', 'Mohamed', \"Mahmoud\"]\n",
    "}\n",
    "teams"
   ]
  },
  {
   "cell_type": "code",
   "execution_count": null,
   "id": "behavioral-johnston",
   "metadata": {},
   "outputs": [],
   "source": []
  }
 ],
 "metadata": {
  "kernelspec": {
   "display_name": "Python 3",
   "language": "python",
   "name": "python3"
  },
  "language_info": {
   "codemirror_mode": {
    "name": "ipython",
    "version": 3
   },
   "file_extension": ".py",
   "mimetype": "text/x-python",
   "name": "python",
   "nbconvert_exporter": "python",
   "pygments_lexer": "ipython3",
   "version": "3.8.5"
  }
 },
 "nbformat": 4,
 "nbformat_minor": 5
}
