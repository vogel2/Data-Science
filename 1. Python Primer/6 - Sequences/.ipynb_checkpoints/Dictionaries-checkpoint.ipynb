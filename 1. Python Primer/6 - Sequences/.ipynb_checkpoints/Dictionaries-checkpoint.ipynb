{
 "cells": [
  {
   "cell_type": "code",
   "execution_count": 2,
   "id": "subjective-threshold",
   "metadata": {},
   "outputs": [
    {
     "data": {
      "text/plain": [
       "{'i1': 'Username', 'i2': 'Password'}"
      ]
     },
     "execution_count": 2,
     "metadata": {},
     "output_type": "execute_result"
    }
   ],
   "source": [
    "mydict = {\n",
    "    'i1' : \"Username\",\n",
    "    'i2' : \"Password\"\n",
    "}\n",
    "mydict"
   ]
  },
  {
   "cell_type": "code",
   "execution_count": 3,
   "id": "effective-aquatic",
   "metadata": {},
   "outputs": [
    {
     "data": {
      "text/plain": [
       "'Username'"
      ]
     },
     "execution_count": 3,
     "metadata": {},
     "output_type": "execute_result"
    }
   ],
   "source": [
    "mydict['i1']"
   ]
  },
  {
   "cell_type": "code",
   "execution_count": 5,
   "id": "french-basic",
   "metadata": {},
   "outputs": [
    {
     "data": {
      "text/plain": [
       "{'i1': 'Username', 'i2': 'Password', 'i3': '2FA'}"
      ]
     },
     "execution_count": 5,
     "metadata": {},
     "output_type": "execute_result"
    }
   ],
   "source": [
    "mydict['i3'] = \"2FA\" # ADDING A NEW KEY-PAIR\n",
    "mydict"
   ]
  },
  {
   "cell_type": "code",
   "execution_count": 6,
   "id": "secondary-cambodia",
   "metadata": {},
   "outputs": [
    {
     "data": {
      "text/plain": [
       "{'i1': 'Email', 'i2': 'Password', 'i3': '2FA'}"
      ]
     },
     "execution_count": 6,
     "metadata": {},
     "output_type": "execute_result"
    }
   ],
   "source": [
    "mydict['i1'] = \"Email\" # REPLACING EXISTING KEY'S PAIR\n",
    "mydict"
   ]
  },
  {
   "cell_type": "code",
   "execution_count": 16,
   "id": "generous-level",
   "metadata": {},
   "outputs": [
    {
     "data": {
      "text/plain": [
       "{'TeamA': 'Mohsen', 'TeamB': ['Ahmed', 'Mohamed', 'Mahmoud']}"
      ]
     },
     "execution_count": 16,
     "metadata": {},
     "output_type": "execute_result"
    }
   ],
   "source": [
    "teams = {\n",
    "    \"TeamA\": 'Mohsen',\n",
    "    'TeamB' : ['Ahmed', 'Mohamed', \"Mahmoud\"]\n",
    "}\n",
    "teams"
   ]
  },
  {
   "cell_type": "code",
   "execution_count": 17,
   "id": "important-absorption",
   "metadata": {},
   "outputs": [],
   "source": [
    "# ALTERNATIVE WAY TO ASSIGN DICTIONARY"
   ]
  },
  {
   "cell_type": "code",
   "execution_count": 25,
   "id": "reasonable-trader",
   "metadata": {},
   "outputs": [],
   "source": [
    "Team = {}\n",
    "Team['Attacker'] = \"Ahmed\"\n",
    "Team['Midfielder'] = \"Mohamed\"\n",
    "Team[\"Defender\"] = \"Mahmoud\"\n"
   ]
  },
  {
   "cell_type": "code",
   "execution_count": 28,
   "id": "possible-willow",
   "metadata": {},
   "outputs": [
    {
     "name": "stdout",
     "output_type": "stream",
     "text": [
      "Ahmed\n",
      "Ahmed\n",
      "{'Attacker': 'Ahmed', 'Midfielder': 'Mohamed', 'Defender': 'Mahmoud'}\n",
      "None\n"
     ]
    }
   ],
   "source": [
    "print(Team['Attacker'])\n",
    "print(Team.get('Attacker'))\n",
    "print(Team)\n",
    "print(Team.get('Coach')) # PRINTS NULL IF NO COACH, DOES NOT GIVE ERROR LIKE Team['Coach']"
   ]
  },
  {
   "cell_type": "code",
   "execution_count": null,
   "id": "technological-qatar",
   "metadata": {},
   "outputs": [],
   "source": []
  }
 ],
 "metadata": {
  "kernelspec": {
   "display_name": "Python 3",
   "language": "python",
   "name": "python3"
  },
  "language_info": {
   "codemirror_mode": {
    "name": "ipython",
    "version": 3
   },
   "file_extension": ".py",
   "mimetype": "text/x-python",
   "name": "python",
   "nbconvert_exporter": "python",
   "pygments_lexer": "ipython3",
   "version": "3.8.5"
  }
 },
 "nbformat": 4,
 "nbformat_minor": 5
}
