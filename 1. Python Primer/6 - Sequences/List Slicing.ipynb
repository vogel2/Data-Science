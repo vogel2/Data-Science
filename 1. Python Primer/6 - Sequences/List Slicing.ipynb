{
 "cells": [
  {
   "cell_type": "code",
   "execution_count": 1,
   "id": "wireless-episode",
   "metadata": {},
   "outputs": [],
   "source": [
    "Participants = ['Joe', 'Theodore', 'Barack', 'Donald']"
   ]
  },
  {
   "cell_type": "code",
   "execution_count": 2,
   "id": "third-unknown",
   "metadata": {},
   "outputs": [
    {
     "data": {
      "text/plain": [
       "['Joe', 'Theodore', 'Barack', 'Donald']"
      ]
     },
     "execution_count": 2,
     "metadata": {},
     "output_type": "execute_result"
    }
   ],
   "source": [
    "Participants"
   ]
  },
  {
   "cell_type": "code",
   "execution_count": 15,
   "id": "governing-simple",
   "metadata": {},
   "outputs": [
    {
     "data": {
      "text/plain": [
       "['Theodore', 'Barack']"
      ]
     },
     "execution_count": 15,
     "metadata": {},
     "output_type": "execute_result"
    }
   ],
   "source": [
    "# SLICING ------------\n",
    "Participants[1:3] # returns object 1 and 2"
   ]
  },
  {
   "cell_type": "code",
   "execution_count": 4,
   "id": "running-multiple",
   "metadata": {},
   "outputs": [
    {
     "data": {
      "text/plain": [
       "['Joe']"
      ]
     },
     "execution_count": 4,
     "metadata": {},
     "output_type": "execute_result"
    }
   ],
   "source": [
    "Participants[:1]"
   ]
  },
  {
   "cell_type": "code",
   "execution_count": 5,
   "id": "important-image",
   "metadata": {},
   "outputs": [
    {
     "data": {
      "text/plain": [
       "['Donald']"
      ]
     },
     "execution_count": 5,
     "metadata": {},
     "output_type": "execute_result"
    }
   ],
   "source": [
    "Participants[3:]"
   ]
  },
  {
   "cell_type": "code",
   "execution_count": 7,
   "id": "modular-guest",
   "metadata": {
    "scrolled": true
   },
   "outputs": [
    {
     "data": {
      "text/plain": [
       "['Barack', 'Donald']"
      ]
     },
     "execution_count": 7,
     "metadata": {},
     "output_type": "execute_result"
    }
   ],
   "source": [
    "Participants[-2:]"
   ]
  },
  {
   "cell_type": "code",
   "execution_count": 9,
   "id": "skilled-scoop",
   "metadata": {},
   "outputs": [
    {
     "data": {
      "text/plain": [
       "2"
      ]
     },
     "execution_count": 9,
     "metadata": {},
     "output_type": "execute_result"
    }
   ],
   "source": [
    "Participants.index('Barack')"
   ]
  },
  {
   "cell_type": "code",
   "execution_count": 12,
   "id": "sporting-relationship",
   "metadata": {},
   "outputs": [],
   "source": [
    "# LIST OF LISTS ------------\n",
    "\n",
    "NewComers = ['George', 'Bill']"
   ]
  },
  {
   "cell_type": "code",
   "execution_count": 14,
   "id": "broadband-helen",
   "metadata": {},
   "outputs": [
    {
     "data": {
      "text/plain": [
       "[['Joe', 'Theodore', 'Barack', 'Donald'], ['George', 'Bill']]"
      ]
     },
     "execution_count": 14,
     "metadata": {},
     "output_type": "execute_result"
    }
   ],
   "source": [
    "Listoflists = [Participants, NewComers]\n",
    "Listoflists"
   ]
  },
  {
   "cell_type": "code",
   "execution_count": 18,
   "id": "oriented-privacy",
   "metadata": {},
   "outputs": [
    {
     "data": {
      "text/plain": [
       "['Barack', 'Donald', 'Joe', 'Theodore']"
      ]
     },
     "execution_count": 18,
     "metadata": {},
     "output_type": "execute_result"
    }
   ],
   "source": [
    "# SORTING ------------\n",
    "Participants.sort()\n",
    "Participants"
   ]
  },
  {
   "cell_type": "code",
   "execution_count": 20,
   "id": "determined-taxation",
   "metadata": {},
   "outputs": [
    {
     "data": {
      "text/plain": [
       "['Theodore', 'Joe', 'Donald', 'Barack']"
      ]
     },
     "execution_count": 20,
     "metadata": {},
     "output_type": "execute_result"
    }
   ],
   "source": [
    "Participants.sort(reverse=True)\n",
    "Participants"
   ]
  },
  {
   "cell_type": "code",
   "execution_count": null,
   "id": "fleet-tampa",
   "metadata": {},
   "outputs": [],
   "source": []
  }
 ],
 "metadata": {
  "kernelspec": {
   "display_name": "Python 3",
   "language": "python",
   "name": "python3"
  },
  "language_info": {
   "codemirror_mode": {
    "name": "ipython",
    "version": 3
   },
   "file_extension": ".py",
   "mimetype": "text/x-python",
   "name": "python",
   "nbconvert_exporter": "python",
   "pygments_lexer": "ipython3",
   "version": "3.8.5"
  }
 },
 "nbformat": 4,
 "nbformat_minor": 5
}
