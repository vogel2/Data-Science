{
 "cells": [
  {
   "cell_type": "code",
   "execution_count": 5,
   "id": "automatic-inclusion",
   "metadata": {},
   "outputs": [
    {
     "name": "stdout",
     "output_type": "stream",
     "text": [
      "35\n"
     ]
    }
   ],
   "source": [
    "prices = {\n",
    "    'Beans' : 5,\n",
    "    'Tomato' : 3,\n",
    "    'Burger' : 10\n",
    "}\n",
    "\n",
    "quantitybought = {\n",
    "    'Beans' : 2,\n",
    "    'Tomato' : 5,\n",
    "    'Burger' : 1\n",
    "}\n",
    "\n",
    "moneyspent = 0\n",
    "\n",
    "for i in prices:\n",
    "    moneyspent += prices[i] * quantitybought[i]\n",
    "print(moneyspent)"
   ]
  },
  {
   "cell_type": "code",
   "execution_count": null,
   "id": "working-enterprise",
   "metadata": {},
   "outputs": [],
   "source": []
  }
 ],
 "metadata": {
  "kernelspec": {
   "display_name": "Python 3",
   "language": "python",
   "name": "python3"
  },
  "language_info": {
   "codemirror_mode": {
    "name": "ipython",
    "version": 3
   },
   "file_extension": ".py",
   "mimetype": "text/x-python",
   "name": "python",
   "nbconvert_exporter": "python",
   "pygments_lexer": "ipython3",
   "version": "3.8.5"
  }
 },
 "nbformat": 4,
 "nbformat_minor": 5
}
