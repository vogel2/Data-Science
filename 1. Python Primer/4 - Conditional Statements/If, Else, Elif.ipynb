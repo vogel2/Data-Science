{
 "cells": [
  {
   "cell_type": "code",
   "execution_count": 16,
   "id": "optical-sodium",
   "metadata": {},
   "outputs": [],
   "source": [
    "def userinput(x):\n",
    "    if x == 3:\n",
    "        print(\"Yooooooo!\")\n",
    "    elif x == 4:\n",
    "        print(\"Haleluja!\")\n",
    "    else:\n",
    "        print(\"Nooooooo!\")"
   ]
  },
  {
   "cell_type": "code",
   "execution_count": 17,
   "id": "friendly-artwork",
   "metadata": {},
   "outputs": [
    {
     "name": "stdout",
     "output_type": "stream",
     "text": [
      "Yooooooo!\n",
      "None\n"
     ]
    }
   ],
   "source": [
    "print(userinput(3))\n"
   ]
  },
  {
   "cell_type": "code",
   "execution_count": null,
   "id": "mature-selling",
   "metadata": {},
   "outputs": [],
   "source": []
  },
  {
   "cell_type": "code",
   "execution_count": null,
   "id": "concrete-vegetable",
   "metadata": {},
   "outputs": [],
   "source": []
  }
 ],
 "metadata": {
  "kernelspec": {
   "display_name": "Python 3",
   "language": "python",
   "name": "python3"
  },
  "language_info": {
   "codemirror_mode": {
    "name": "ipython",
    "version": 3
   },
   "file_extension": ".py",
   "mimetype": "text/x-python",
   "name": "python",
   "nbconvert_exporter": "python",
   "pygments_lexer": "ipython3",
   "version": "3.8.5"
  }
 },
 "nbformat": 4,
 "nbformat_minor": 5
}
