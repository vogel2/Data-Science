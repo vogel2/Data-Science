{
 "cells": [
  {
   "cell_type": "code",
   "execution_count": 30,
   "id": "dental-massage",
   "metadata": {},
   "outputs": [],
   "source": [
    "def userinput(x):\n",
    "    if x == 3:\n",
    "        print(\"Yooooooo!\")\n",
    "    elif x == 4:\n",
    "        print(\"Haleluja!\")\n",
    "    else:\n",
    "        print(\"Nooooooo!\")\n",
    "    return \"done\""
   ]
  },
  {
   "cell_type": "code",
   "execution_count": 31,
   "id": "innovative-folks",
   "metadata": {},
   "outputs": [
    {
     "name": "stdout",
     "output_type": "stream",
     "text": [
      "Nooooooo!\n",
      "bruh\n"
     ]
    }
   ],
   "source": [
    "print(userinput(1))\n"
   ]
  },
  {
   "cell_type": "code",
   "execution_count": null,
   "id": "delayed-elimination",
   "metadata": {},
   "outputs": [],
   "source": []
  }
 ],
 "metadata": {
  "kernelspec": {
   "display_name": "Python 3",
   "language": "python",
   "name": "python3"
  },
  "language_info": {
   "codemirror_mode": {
    "name": "ipython",
    "version": 3
   },
   "file_extension": ".py",
   "mimetype": "text/x-python",
   "name": "python",
   "nbconvert_exporter": "python",
   "pygments_lexer": "ipython3",
   "version": "3.8.5"
  }
 },
 "nbformat": 4,
 "nbformat_minor": 5
}
