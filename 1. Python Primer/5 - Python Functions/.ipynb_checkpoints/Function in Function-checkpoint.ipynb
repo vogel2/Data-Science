{
 "cells": [
  {
   "cell_type": "code",
   "execution_count": 5,
   "id": "willing-polish",
   "metadata": {},
   "outputs": [],
   "source": [
    "def wage(working_hours):\n",
    "    return working_hours * 25\n",
    "\n",
    "def withbonus(working_hours):\n",
    "    return wage(working_hours) + 50"
   ]
  },
  {
   "cell_type": "code",
   "execution_count": 6,
   "id": "arabic-driver",
   "metadata": {},
   "outputs": [
    {
     "data": {
      "text/plain": [
       "250"
      ]
     },
     "execution_count": 6,
     "metadata": {},
     "output_type": "execute_result"
    }
   ],
   "source": [
    "withbonus(8)"
   ]
  },
  {
   "cell_type": "code",
   "execution_count": 7,
   "id": "preliminary-remainder",
   "metadata": {},
   "outputs": [
    {
     "data": {
      "text/plain": [
       "200"
      ]
     },
     "execution_count": 7,
     "metadata": {},
     "output_type": "execute_result"
    }
   ],
   "source": [
    "wage (8)"
   ]
  },
  {
   "cell_type": "code",
   "execution_count": null,
   "id": "satisfactory-porcelain",
   "metadata": {},
   "outputs": [],
   "source": []
  }
 ],
 "metadata": {
  "kernelspec": {
   "display_name": "Python 3",
   "language": "python",
   "name": "python3"
  },
  "language_info": {
   "codemirror_mode": {
    "name": "ipython",
    "version": 3
   },
   "file_extension": ".py",
   "mimetype": "text/x-python",
   "name": "python",
   "nbconvert_exporter": "python",
   "pygments_lexer": "ipython3",
   "version": "3.8.5"
  }
 },
 "nbformat": 4,
 "nbformat_minor": 5
}
