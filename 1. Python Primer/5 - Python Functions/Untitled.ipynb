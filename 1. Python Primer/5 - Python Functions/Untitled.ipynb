{
 "cells": [
  {
   "cell_type": "code",
   "execution_count": 1,
   "id": "hawaiian-links",
   "metadata": {},
   "outputs": [],
   "source": [
    "def simple():\n",
    "    print(\"Just a sentence\")"
   ]
  },
  {
   "cell_type": "code",
   "execution_count": 3,
   "id": "backed-federal",
   "metadata": {},
   "outputs": [
    {
     "name": "stdout",
     "output_type": "stream",
     "text": [
      "Sentence\n"
     ]
    }
   ],
   "source": [
    "simple()"
   ]
  },
  {
   "cell_type": "code",
   "execution_count": 6,
   "id": "tested-grace",
   "metadata": {},
   "outputs": [],
   "source": [
    "def add_ten(i):\n",
    "    return i + 10"
   ]
  },
  {
   "cell_type": "code",
   "execution_count": 7,
   "id": "numeric-chase",
   "metadata": {},
   "outputs": [
    {
     "data": {
      "text/plain": [
       "20"
      ]
     },
     "execution_count": 7,
     "metadata": {},
     "output_type": "execute_result"
    }
   ],
   "source": [
    "add_ten(10)"
   ]
  },
  {
   "cell_type": "code",
   "execution_count": 12,
   "id": "resistant-proof",
   "metadata": {},
   "outputs": [],
   "source": [
    "def add_ten(i):\n",
    "    total = i + 10\n",
    "    return total"
   ]
  },
  {
   "cell_type": "code",
   "execution_count": 13,
   "id": "ordered-macedonia",
   "metadata": {},
   "outputs": [
    {
     "data": {
      "text/plain": [
       "12"
      ]
     },
     "execution_count": 13,
     "metadata": {},
     "output_type": "execute_result"
    }
   ],
   "source": [
    "add_ten(2)"
   ]
  },
  {
   "cell_type": "code",
   "execution_count": null,
   "id": "documented-isolation",
   "metadata": {},
   "outputs": [],
   "source": []
  }
 ],
 "metadata": {
  "kernelspec": {
   "display_name": "Python 3",
   "language": "python",
   "name": "python3"
  },
  "language_info": {
   "codemirror_mode": {
    "name": "ipython",
    "version": 3
   },
   "file_extension": ".py",
   "mimetype": "text/x-python",
   "name": "python",
   "nbconvert_exporter": "python",
   "pygments_lexer": "ipython3",
   "version": "3.8.5"
  }
 },
 "nbformat": 4,
 "nbformat_minor": 5
}
