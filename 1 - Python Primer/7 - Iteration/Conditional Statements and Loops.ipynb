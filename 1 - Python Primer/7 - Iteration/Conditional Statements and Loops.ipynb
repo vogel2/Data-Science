{
 "cells": [
  {
   "cell_type": "code",
   "execution_count": 3,
   "id": "sporting-headset",
   "metadata": {},
   "outputs": [
    {
     "name": "stdout",
     "output_type": "stream",
     "text": [
      "1 2 4 8 16 32 64 128 256 512 "
     ]
    }
   ],
   "source": [
    "for i in range(10):\n",
    "    print(2 ** i, end = \" \")\n"
   ]
  },
  {
   "cell_type": "code",
   "execution_count": 9,
   "id": "criminal-collapse",
   "metadata": {},
   "outputs": [
    {
     "name": "stdout",
     "output_type": "stream",
     "text": [
      "0 Odd 2 Odd 4 Odd 6 Odd 8 Odd "
     ]
    }
   ],
   "source": [
    "for x in range(10):\n",
    "    if x % 2 == 0:\n",
    "        print(x, end = \" \")\n",
    "    else:\n",
    "        print(\"Odd\", end = \" \")"
   ]
  },
  {
   "cell_type": "code",
   "execution_count": 13,
   "id": "hybrid-spell",
   "metadata": {},
   "outputs": [
    {
     "name": "stdout",
     "output_type": "stream",
     "text": [
      "2\n",
      "4\n",
      "6\n",
      "8\n"
     ]
    }
   ],
   "source": [
    "##################\n",
    "\n",
    "x = [2, 4, 6, 8]\n",
    "\n",
    "for item in x:\n",
    "    print(item)"
   ]
  },
  {
   "cell_type": "code",
   "execution_count": 14,
   "id": "bottom-campbell",
   "metadata": {},
   "outputs": [
    {
     "name": "stdout",
     "output_type": "stream",
     "text": [
      "2 4 6 8 "
     ]
    }
   ],
   "source": [
    "for item in range(len(x)):\n",
    "    print(x[item], end = \" \")"
   ]
  },
  {
   "cell_type": "code",
   "execution_count": null,
   "id": "graphic-exclusion",
   "metadata": {},
   "outputs": [],
   "source": []
  }
 ],
 "metadata": {
  "kernelspec": {
   "display_name": "Python 3",
   "language": "python",
   "name": "python3"
  },
  "language_info": {
   "codemirror_mode": {
    "name": "ipython",
    "version": 3
   },
   "file_extension": ".py",
   "mimetype": "text/x-python",
   "name": "python",
   "nbconvert_exporter": "python",
   "pygments_lexer": "ipython3",
   "version": "3.8.5"
  }
 },
 "nbformat": 4,
 "nbformat_minor": 5
}
